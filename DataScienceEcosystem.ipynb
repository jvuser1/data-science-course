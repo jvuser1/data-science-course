{
 "cells": [
  {
   "cell_type": "markdown",
   "id": "4ffe5389-589b-4ceb-81f0-edb28e6a28ac",
   "metadata": {},
   "source": [
    "# Data Science Tools and Ecosystem"
   ]
  },
  {
   "cell_type": "markdown",
   "id": "26ff6536-27f3-4342-b3d4-c24585c11941",
   "metadata": {},
   "source": [
    "In this notebook, Data Science Tools and Ecosystem are summarized."
   ]
  },
  {
   "cell_type": "markdown",
   "id": "6654d47e-2599-46bc-8d20-3aa5526c80f6",
   "metadata": {},
   "source": [
    "**Objectives**\n",
    "- List popular languages for Data Science\n",
    "- List common libraries for Data Science\n",
    "- Show example of arithmetic expressions in Python"
   ]
  },
  {
   "cell_type": "markdown",
   "id": "05084b98-184f-4f59-a97d-4c5dc1056c13",
   "metadata": {},
   "source": [
    "Some of the popular languages that Data Scientists use are:\n",
    "1. Python\n",
    "2. R\n",
    "3. Julia"
   ]
  },
  {
   "cell_type": "markdown",
   "id": "380936bb-0c24-47a2-9fee-8f0e422d3e71",
   "metadata": {},
   "source": [
    "Some of the commonly used libraries used by Data Scientists include:\n",
    "1. Numpy\n",
    "2. Pandas\n",
    "3. Matplotlib\n",
    "4. Seaborn\n",
    "5. scikit-learn\n",
    "6. pytorch\n",
    "7. tensorflow"
   ]
  },
  {
   "cell_type": "markdown",
   "id": "9e6abe65-015b-47e1-8665-a2e16bb6cd94",
   "metadata": {},
   "source": [
    "| Data Science Tools |\n",
    "| ----- |\n",
    "| Jupyter Lab/Notebooks |\n",
    "| Apache Zeppelin |\n",
    "| R Studio |\n",
    "| Spyder |"
   ]
  },
  {
   "cell_type": "markdown",
   "id": "04fb1740-f1c8-4533-8d0f-b8c5336a7cc2",
   "metadata": {},
   "source": [
    "### Below are a few examples of evaluating arithmetic expressions in Python"
   ]
  },
  {
   "cell_type": "code",
   "execution_count": 12,
   "id": "880e35ae-38de-4e7a-b04f-9dc487531d78",
   "metadata": {},
   "outputs": [
    {
     "data": {
      "text/plain": [
       "17"
      ]
     },
     "execution_count": 12,
     "metadata": {},
     "output_type": "execute_result"
    }
   ],
   "source": [
    "# this is a simple expression to multiple and then add integers\n",
    "(3*4)+5"
   ]
  },
  {
   "cell_type": "code",
   "execution_count": 20,
   "id": "846df5c6-fd6a-4cc4-8beb-73603161a150",
   "metadata": {},
   "outputs": [
    {
     "name": "stdout",
     "output_type": "stream",
     "text": [
      "200 minutes is equal to 3.3333333333333335 hours.\n"
     ]
    }
   ],
   "source": [
    "# this will convert 200 minutes into hours by dividing by 60\n",
    "\n",
    "def min2hr(mins):\n",
    "    return mins/60\n",
    "\n",
    "print(f\"200 minutes is equal to {min2hr(200)} hours.\")"
   ]
  },
  {
   "cell_type": "markdown",
   "id": "684117d8-1dbd-4151-b60b-1f7abb7e3a1c",
   "metadata": {},
   "source": [
    "### Author\n",
    "James V"
   ]
  }
 ],
 "metadata": {
  "kernelspec": {
   "display_name": "Python 3 (ipykernel)",
   "language": "python",
   "name": "python3"
  },
  "language_info": {
   "codemirror_mode": {
    "name": "ipython",
    "version": 3
   },
   "file_extension": ".py",
   "mimetype": "text/x-python",
   "name": "python",
   "nbconvert_exporter": "python",
   "pygments_lexer": "ipython3",
   "version": "3.12.7"
  }
 },
 "nbformat": 4,
 "nbformat_minor": 5
}
